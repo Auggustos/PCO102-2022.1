{
  "nbformat": 4,
  "nbformat_minor": 0,
  "metadata": {
    "colab": {
      "name": "PCO102-01-Melhores-regressores-para-analise-sentimento-music-dataset.ipynb",
      "provenance": [],
      "collapsed_sections": [
        "l8xLgAIkJcQC",
        "Vw94Eh5OJjqh"
      ]
    },
    "kernelspec": {
      "name": "python3",
      "display_name": "Python 3"
    },
    "language_info": {
      "name": "python"
    }
  },
  "cells": [
    {
      "cell_type": "markdown",
      "source": [
        "## Introdução do problema\n",
        "Neste notebook será realizada a seleção dos melhores regressores para analise de sentimento obtidos através de letras musicais. com os resultados poderemos ver os valores de sentimentos positivos negativos ou neutros de cada musica. estes valores serão os tutores para os regressores."
      ],
      "metadata": {
        "id": "FbHg94-mIm9v"
      }
    },
    {
      "cell_type": "markdown",
      "source": [
        "## Principal atributo a ser trabalhado\n",
        "\n",
        "lyrics: Letra completa da música</br>"
      ],
      "metadata": {
        "id": "kgzv_IwNJ0tC"
      }
    },
    {
      "cell_type": "markdown",
      "source": [
        "## Importação das bibliotecas "
      ],
      "metadata": {
        "id": "Je2nL_OXGWyE"
      }
    },
    {
      "cell_type": "code",
      "source": [
        "!pip install vaderSentiment\n",
        "!pip install gdown"
      ],
      "metadata": {
        "colab": {
          "base_uri": "https://localhost:8080/"
        },
        "id": "1X3uokEtX8PA",
        "outputId": "7b447abc-3d02-433a-c55c-e72f48976f4c"
      },
      "execution_count": 1,
      "outputs": [
        {
          "output_type": "stream",
          "name": "stdout",
          "text": [
            "Looking in indexes: https://pypi.org/simple, https://us-python.pkg.dev/colab-wheels/public/simple/\n",
            "Collecting vaderSentiment\n",
            "  Downloading vaderSentiment-3.3.2-py2.py3-none-any.whl (125 kB)\n",
            "\u001b[K     |████████████████████████████████| 125 kB 5.2 MB/s \n",
            "\u001b[?25hRequirement already satisfied: requests in /usr/local/lib/python3.7/dist-packages (from vaderSentiment) (2.23.0)\n",
            "Requirement already satisfied: urllib3!=1.25.0,!=1.25.1,<1.26,>=1.21.1 in /usr/local/lib/python3.7/dist-packages (from requests->vaderSentiment) (1.24.3)\n",
            "Requirement already satisfied: chardet<4,>=3.0.2 in /usr/local/lib/python3.7/dist-packages (from requests->vaderSentiment) (3.0.4)\n",
            "Requirement already satisfied: certifi>=2017.4.17 in /usr/local/lib/python3.7/dist-packages (from requests->vaderSentiment) (2022.6.15)\n",
            "Requirement already satisfied: idna<3,>=2.5 in /usr/local/lib/python3.7/dist-packages (from requests->vaderSentiment) (2.10)\n",
            "Installing collected packages: vaderSentiment\n",
            "Successfully installed vaderSentiment-3.3.2\n",
            "Looking in indexes: https://pypi.org/simple, https://us-python.pkg.dev/colab-wheels/public/simple/\n",
            "Requirement already satisfied: gdown in /usr/local/lib/python3.7/dist-packages (4.4.0)\n",
            "Requirement already satisfied: tqdm in /usr/local/lib/python3.7/dist-packages (from gdown) (4.64.0)\n",
            "Requirement already satisfied: requests[socks] in /usr/local/lib/python3.7/dist-packages (from gdown) (2.23.0)\n",
            "Requirement already satisfied: six in /usr/local/lib/python3.7/dist-packages (from gdown) (1.15.0)\n",
            "Requirement already satisfied: filelock in /usr/local/lib/python3.7/dist-packages (from gdown) (3.7.1)\n",
            "Requirement already satisfied: beautifulsoup4 in /usr/local/lib/python3.7/dist-packages (from gdown) (4.6.3)\n",
            "Requirement already satisfied: urllib3!=1.25.0,!=1.25.1,<1.26,>=1.21.1 in /usr/local/lib/python3.7/dist-packages (from requests[socks]->gdown) (1.24.3)\n",
            "Requirement already satisfied: certifi>=2017.4.17 in /usr/local/lib/python3.7/dist-packages (from requests[socks]->gdown) (2022.6.15)\n",
            "Requirement already satisfied: chardet<4,>=3.0.2 in /usr/local/lib/python3.7/dist-packages (from requests[socks]->gdown) (3.0.4)\n",
            "Requirement already satisfied: idna<3,>=2.5 in /usr/local/lib/python3.7/dist-packages (from requests[socks]->gdown) (2.10)\n",
            "Requirement already satisfied: PySocks!=1.5.7,>=1.5.6 in /usr/local/lib/python3.7/dist-packages (from requests[socks]->gdown) (1.7.1)\n"
          ]
        }
      ]
    },
    {
      "cell_type": "code",
      "execution_count": 2,
      "metadata": {
        "id": "VHuUCOtP_HXY"
      },
      "outputs": [],
      "source": [
        "import pandas as pd\n",
        "import os\n",
        "from textblob import TextBlob\n",
        "import gdown\n",
        "from vaderSentiment.vaderSentiment import SentimentIntensityAnalyzer\n",
        "\n",
        "from sklearn.model_selection import train_test_split \n",
        "import numpy as np\n",
        "from sklearn.feature_extraction.text import TfidfVectorizer\n",
        "\n",
        "from sklearn.linear_model import LogisticRegression\n",
        "from sklearn.model_selection import StratifiedKFold\n",
        "from sklearn.feature_extraction.text import CountVectorizer,TfidfVectorizer\n",
        "from sklearn.decomposition import TruncatedSVD\n",
        "from sklearn.metrics import log_loss,confusion_matrix,classification_report,roc_curve,auc\n",
        "\n",
        "from sklearn import preprocessing\n",
        "from sklearn import utils\n",
        "from sklearn.multioutput import MultiOutputRegressor\n",
        "from sklearn.linear_model import LinearRegression\n",
        "from sklearn.tree import DecisionTreeRegressor\n",
        "from sklearn.neural_network import MLPRegressor\n"
      ]
    },
    {
      "cell_type": "markdown",
      "source": [
        "## Metodologias\n"
      ],
      "metadata": {
        "id": "gaJcyzFee5tE"
      }
    },
    {
      "cell_type": "markdown",
      "source": [
        "A metodologia a ser utilizada neste trabalho é baseada na metodologia de outros dois trabalhos\n",
        "\n",
        "o primeiro é o [Metodologias para Análise de Sentimentos de Tweets\n",
        "sobre o Mercado Financeiro](https://bdm.unb.br/bitstream/10483/29207/1/2019_MuriloCerqueiraMedeiros_tcc.pdf). A metodologia apresentada neste TCC é descrita da seguinte forma: primeiramente, os tweets são carregados de um arquivo em disco, e são pré-processados, gerando-se um espaço vetorial. Em seguida, ocorre a extração de tópicos e a redução de dimensionalidade em paralelo. O resultado da redução de dimensionalidade é utilizado para classificar os sentimentos, para agrupar os tweets e para análise visual, a fim de tornar a investigação de aspectos em comum nos dados mais objetiva.\n",
        "\n",
        "o segundo é o [Estudo e avaliação de métodos de análise de sentimentos baseada em aspectos para textos opinativos em português](https://www.teses.usp.br/teses/disponiveis/59/59143/tde-31102018-174346/publico/mateuscorrigida.pdf). A metodologia utilizada nesta tese é dividida em duas etapas, na primeira é identificada as caracteristicas do produto avaliado mencionados no texto, na segunda o foco é identificar a polaridade (positiva ou negativa) relacionado a cada aspecto do produto.\n",
        "\n",
        "A princípio, neste trabalho é coletada a base de dados, realizado o pré-processamento da mesma, realizada a mineração do sentimento utilizando a biblioteca Vader, gerado a média dos valores agrupados por gênero, e comparação dos sentimentos entre os gêneros."
      ],
      "metadata": {
        "id": "Ghysev7ee68G"
      }
    },
    {
      "cell_type": "markdown",
      "source": [
        "## Desenvolvimento"
      ],
      "metadata": {
        "id": "B1wpQZ6Xx0DB"
      }
    },
    {
      "cell_type": "markdown",
      "source": [
        "### Gdown pra baixar a base de dados"
      ],
      "metadata": {
        "id": "tm22gCF7Gcfl"
      }
    },
    {
      "cell_type": "markdown",
      "source": [
        "Aqui é definido o caminho no drive onde esta localizado o arquivo com a base de dados"
      ],
      "metadata": {
        "id": "j5pglEhpx-mT"
      }
    },
    {
      "cell_type": "code",
      "source": [
        "url = \"https://drive.google.com/uc?id=1UgsRtv23jTZ4p2fCfe9Ccl3ASVMTTLLM\"\n",
        "output = \"dataset_musicas.csv\"\n",
        "gdown.download(url, output, quiet=False)"
      ],
      "metadata": {
        "colab": {
          "base_uri": "https://localhost:8080/",
          "height": 110
        },
        "id": "PG3YvgmQX0JD",
        "outputId": "81e52c02-8ebe-4035-90fd-4117dd43ae08"
      },
      "execution_count": null,
      "outputs": [
        {
          "output_type": "stream",
          "name": "stderr",
          "text": [
            "Downloading...\n",
            "From: https://drive.google.com/uc?id=1UgsRtv23jTZ4p2fCfe9Ccl3ASVMTTLLM\n",
            "To: /content/dataset_musicas.csv\n",
            "100%|██████████| 27.7M/27.7M [00:00<00:00, 111MB/s]\n"
          ]
        },
        {
          "output_type": "execute_result",
          "data": {
            "text/plain": [
              "'dataset_musicas.csv'"
            ],
            "application/vnd.google.colaboratory.intrinsic+json": {
              "type": "string"
            }
          },
          "metadata": {},
          "execution_count": 3
        }
      ]
    },
    {
      "cell_type": "markdown",
      "source": [
        "### Carregamento da base de dados"
      ],
      "metadata": {
        "id": "l8xLgAIkJcQC"
      }
    },
    {
      "cell_type": "code",
      "source": [
        "dataset = pd.read_csv(\"/content/dataset_musicas.csv\")"
      ],
      "metadata": {
        "id": "Pn3tKQhrAahp"
      },
      "execution_count": null,
      "outputs": []
    },
    {
      "cell_type": "code",
      "source": [
        "dataset.head()"
      ],
      "metadata": {
        "id": "b8AN7Ct-G_8g",
        "outputId": "b9c0c683-eb15-4c98-c659-3f870bd095c1",
        "colab": {
          "base_uri": "https://localhost:8080/",
          "height": 557
        }
      },
      "execution_count": null,
      "outputs": [
        {
          "output_type": "execute_result",
          "data": {
            "text/plain": [
              "   Unnamed: 0           artist_name            track_name  release_date genre  \\\n",
              "0           0                mukesh  mohabbat bhi jhoothi          1950   pop   \n",
              "1           4         frankie laine             i believe          1950   pop   \n",
              "2           6           johnnie ray                   cry          1950   pop   \n",
              "3          10           pérez prado              patricia          1950   pop   \n",
              "4          12  giorgos papadopoulos    apopse eida oneiro          1950   pop   \n",
              "\n",
              "                                              lyrics  len    dating  violence  \\\n",
              "0  hold time feel break feel untrue convince spea...   95  0.000598  0.063746   \n",
              "1  believe drop rain fall grow believe darkest ni...   51  0.035537  0.096777   \n",
              "2  sweetheart send letter goodbye secret feel bet...   24  0.002770  0.002770   \n",
              "3  kiss lips want stroll charm mambo chacha merin...   54  0.048249  0.001548   \n",
              "4  till darling till matter know till dream live ...   48  0.001350  0.001350   \n",
              "\n",
              "   world/life  ...   sadness  feelings  danceability  loudness  acousticness  \\\n",
              "0    0.000598  ...  0.380299  0.117175      0.357739  0.454119      0.997992   \n",
              "1    0.443435  ...  0.001284  0.001284      0.331745  0.647540      0.954819   \n",
              "2    0.002770  ...  0.002770  0.225422      0.456298  0.585288      0.840361   \n",
              "3    0.001548  ...  0.225889  0.001548      0.686992  0.744404      0.083935   \n",
              "4    0.417772  ...  0.068800  0.001350      0.291671  0.646489      0.975904   \n",
              "\n",
              "   instrumentalness   valence    energy       topic  age  \n",
              "0          0.901822  0.339448  0.137110     sadness  1.0  \n",
              "1          0.000002  0.325021  0.263240  world/life  1.0  \n",
              "2          0.000000  0.351814  0.139112       music  1.0  \n",
              "3          0.199393  0.775350  0.743736    romantic  1.0  \n",
              "4          0.000246  0.597073  0.394375    romantic  1.0  \n",
              "\n",
              "[5 rows x 31 columns]"
            ],
            "text/html": [
              "\n",
              "  <div id=\"df-3583a244-44fb-42b1-9f50-a535277b82d5\">\n",
              "    <div class=\"colab-df-container\">\n",
              "      <div>\n",
              "<style scoped>\n",
              "    .dataframe tbody tr th:only-of-type {\n",
              "        vertical-align: middle;\n",
              "    }\n",
              "\n",
              "    .dataframe tbody tr th {\n",
              "        vertical-align: top;\n",
              "    }\n",
              "\n",
              "    .dataframe thead th {\n",
              "        text-align: right;\n",
              "    }\n",
              "</style>\n",
              "<table border=\"1\" class=\"dataframe\">\n",
              "  <thead>\n",
              "    <tr style=\"text-align: right;\">\n",
              "      <th></th>\n",
              "      <th>Unnamed: 0</th>\n",
              "      <th>artist_name</th>\n",
              "      <th>track_name</th>\n",
              "      <th>release_date</th>\n",
              "      <th>genre</th>\n",
              "      <th>lyrics</th>\n",
              "      <th>len</th>\n",
              "      <th>dating</th>\n",
              "      <th>violence</th>\n",
              "      <th>world/life</th>\n",
              "      <th>...</th>\n",
              "      <th>sadness</th>\n",
              "      <th>feelings</th>\n",
              "      <th>danceability</th>\n",
              "      <th>loudness</th>\n",
              "      <th>acousticness</th>\n",
              "      <th>instrumentalness</th>\n",
              "      <th>valence</th>\n",
              "      <th>energy</th>\n",
              "      <th>topic</th>\n",
              "      <th>age</th>\n",
              "    </tr>\n",
              "  </thead>\n",
              "  <tbody>\n",
              "    <tr>\n",
              "      <th>0</th>\n",
              "      <td>0</td>\n",
              "      <td>mukesh</td>\n",
              "      <td>mohabbat bhi jhoothi</td>\n",
              "      <td>1950</td>\n",
              "      <td>pop</td>\n",
              "      <td>hold time feel break feel untrue convince spea...</td>\n",
              "      <td>95</td>\n",
              "      <td>0.000598</td>\n",
              "      <td>0.063746</td>\n",
              "      <td>0.000598</td>\n",
              "      <td>...</td>\n",
              "      <td>0.380299</td>\n",
              "      <td>0.117175</td>\n",
              "      <td>0.357739</td>\n",
              "      <td>0.454119</td>\n",
              "      <td>0.997992</td>\n",
              "      <td>0.901822</td>\n",
              "      <td>0.339448</td>\n",
              "      <td>0.137110</td>\n",
              "      <td>sadness</td>\n",
              "      <td>1.0</td>\n",
              "    </tr>\n",
              "    <tr>\n",
              "      <th>1</th>\n",
              "      <td>4</td>\n",
              "      <td>frankie laine</td>\n",
              "      <td>i believe</td>\n",
              "      <td>1950</td>\n",
              "      <td>pop</td>\n",
              "      <td>believe drop rain fall grow believe darkest ni...</td>\n",
              "      <td>51</td>\n",
              "      <td>0.035537</td>\n",
              "      <td>0.096777</td>\n",
              "      <td>0.443435</td>\n",
              "      <td>...</td>\n",
              "      <td>0.001284</td>\n",
              "      <td>0.001284</td>\n",
              "      <td>0.331745</td>\n",
              "      <td>0.647540</td>\n",
              "      <td>0.954819</td>\n",
              "      <td>0.000002</td>\n",
              "      <td>0.325021</td>\n",
              "      <td>0.263240</td>\n",
              "      <td>world/life</td>\n",
              "      <td>1.0</td>\n",
              "    </tr>\n",
              "    <tr>\n",
              "      <th>2</th>\n",
              "      <td>6</td>\n",
              "      <td>johnnie ray</td>\n",
              "      <td>cry</td>\n",
              "      <td>1950</td>\n",
              "      <td>pop</td>\n",
              "      <td>sweetheart send letter goodbye secret feel bet...</td>\n",
              "      <td>24</td>\n",
              "      <td>0.002770</td>\n",
              "      <td>0.002770</td>\n",
              "      <td>0.002770</td>\n",
              "      <td>...</td>\n",
              "      <td>0.002770</td>\n",
              "      <td>0.225422</td>\n",
              "      <td>0.456298</td>\n",
              "      <td>0.585288</td>\n",
              "      <td>0.840361</td>\n",
              "      <td>0.000000</td>\n",
              "      <td>0.351814</td>\n",
              "      <td>0.139112</td>\n",
              "      <td>music</td>\n",
              "      <td>1.0</td>\n",
              "    </tr>\n",
              "    <tr>\n",
              "      <th>3</th>\n",
              "      <td>10</td>\n",
              "      <td>pérez prado</td>\n",
              "      <td>patricia</td>\n",
              "      <td>1950</td>\n",
              "      <td>pop</td>\n",
              "      <td>kiss lips want stroll charm mambo chacha merin...</td>\n",
              "      <td>54</td>\n",
              "      <td>0.048249</td>\n",
              "      <td>0.001548</td>\n",
              "      <td>0.001548</td>\n",
              "      <td>...</td>\n",
              "      <td>0.225889</td>\n",
              "      <td>0.001548</td>\n",
              "      <td>0.686992</td>\n",
              "      <td>0.744404</td>\n",
              "      <td>0.083935</td>\n",
              "      <td>0.199393</td>\n",
              "      <td>0.775350</td>\n",
              "      <td>0.743736</td>\n",
              "      <td>romantic</td>\n",
              "      <td>1.0</td>\n",
              "    </tr>\n",
              "    <tr>\n",
              "      <th>4</th>\n",
              "      <td>12</td>\n",
              "      <td>giorgos papadopoulos</td>\n",
              "      <td>apopse eida oneiro</td>\n",
              "      <td>1950</td>\n",
              "      <td>pop</td>\n",
              "      <td>till darling till matter know till dream live ...</td>\n",
              "      <td>48</td>\n",
              "      <td>0.001350</td>\n",
              "      <td>0.001350</td>\n",
              "      <td>0.417772</td>\n",
              "      <td>...</td>\n",
              "      <td>0.068800</td>\n",
              "      <td>0.001350</td>\n",
              "      <td>0.291671</td>\n",
              "      <td>0.646489</td>\n",
              "      <td>0.975904</td>\n",
              "      <td>0.000246</td>\n",
              "      <td>0.597073</td>\n",
              "      <td>0.394375</td>\n",
              "      <td>romantic</td>\n",
              "      <td>1.0</td>\n",
              "    </tr>\n",
              "  </tbody>\n",
              "</table>\n",
              "<p>5 rows × 31 columns</p>\n",
              "</div>\n",
              "      <button class=\"colab-df-convert\" onclick=\"convertToInteractive('df-3583a244-44fb-42b1-9f50-a535277b82d5')\"\n",
              "              title=\"Convert this dataframe to an interactive table.\"\n",
              "              style=\"display:none;\">\n",
              "        \n",
              "  <svg xmlns=\"http://www.w3.org/2000/svg\" height=\"24px\"viewBox=\"0 0 24 24\"\n",
              "       width=\"24px\">\n",
              "    <path d=\"M0 0h24v24H0V0z\" fill=\"none\"/>\n",
              "    <path d=\"M18.56 5.44l.94 2.06.94-2.06 2.06-.94-2.06-.94-.94-2.06-.94 2.06-2.06.94zm-11 1L8.5 8.5l.94-2.06 2.06-.94-2.06-.94L8.5 2.5l-.94 2.06-2.06.94zm10 10l.94 2.06.94-2.06 2.06-.94-2.06-.94-.94-2.06-.94 2.06-2.06.94z\"/><path d=\"M17.41 7.96l-1.37-1.37c-.4-.4-.92-.59-1.43-.59-.52 0-1.04.2-1.43.59L10.3 9.45l-7.72 7.72c-.78.78-.78 2.05 0 2.83L4 21.41c.39.39.9.59 1.41.59.51 0 1.02-.2 1.41-.59l7.78-7.78 2.81-2.81c.8-.78.8-2.07 0-2.86zM5.41 20L4 18.59l7.72-7.72 1.47 1.35L5.41 20z\"/>\n",
              "  </svg>\n",
              "      </button>\n",
              "      \n",
              "  <style>\n",
              "    .colab-df-container {\n",
              "      display:flex;\n",
              "      flex-wrap:wrap;\n",
              "      gap: 12px;\n",
              "    }\n",
              "\n",
              "    .colab-df-convert {\n",
              "      background-color: #E8F0FE;\n",
              "      border: none;\n",
              "      border-radius: 50%;\n",
              "      cursor: pointer;\n",
              "      display: none;\n",
              "      fill: #1967D2;\n",
              "      height: 32px;\n",
              "      padding: 0 0 0 0;\n",
              "      width: 32px;\n",
              "    }\n",
              "\n",
              "    .colab-df-convert:hover {\n",
              "      background-color: #E2EBFA;\n",
              "      box-shadow: 0px 1px 2px rgba(60, 64, 67, 0.3), 0px 1px 3px 1px rgba(60, 64, 67, 0.15);\n",
              "      fill: #174EA6;\n",
              "    }\n",
              "\n",
              "    [theme=dark] .colab-df-convert {\n",
              "      background-color: #3B4455;\n",
              "      fill: #D2E3FC;\n",
              "    }\n",
              "\n",
              "    [theme=dark] .colab-df-convert:hover {\n",
              "      background-color: #434B5C;\n",
              "      box-shadow: 0px 1px 3px 1px rgba(0, 0, 0, 0.15);\n",
              "      filter: drop-shadow(0px 1px 2px rgba(0, 0, 0, 0.3));\n",
              "      fill: #FFFFFF;\n",
              "    }\n",
              "  </style>\n",
              "\n",
              "      <script>\n",
              "        const buttonEl =\n",
              "          document.querySelector('#df-3583a244-44fb-42b1-9f50-a535277b82d5 button.colab-df-convert');\n",
              "        buttonEl.style.display =\n",
              "          google.colab.kernel.accessAllowed ? 'block' : 'none';\n",
              "\n",
              "        async function convertToInteractive(key) {\n",
              "          const element = document.querySelector('#df-3583a244-44fb-42b1-9f50-a535277b82d5');\n",
              "          const dataTable =\n",
              "            await google.colab.kernel.invokeFunction('convertToInteractive',\n",
              "                                                     [key], {});\n",
              "          if (!dataTable) return;\n",
              "\n",
              "          const docLinkHtml = 'Like what you see? Visit the ' +\n",
              "            '<a target=\"_blank\" href=https://colab.research.google.com/notebooks/data_table.ipynb>data table notebook</a>'\n",
              "            + ' to learn more about interactive tables.';\n",
              "          element.innerHTML = '';\n",
              "          dataTable['output_type'] = 'display_data';\n",
              "          await google.colab.output.renderOutput(dataTable, element);\n",
              "          const docLink = document.createElement('div');\n",
              "          docLink.innerHTML = docLinkHtml;\n",
              "          element.appendChild(docLink);\n",
              "        }\n",
              "      </script>\n",
              "    </div>\n",
              "  </div>\n",
              "  "
            ]
          },
          "metadata": {},
          "execution_count": 5
        }
      ]
    },
    {
      "cell_type": "markdown",
      "source": [
        "### Pre-processamento"
      ],
      "metadata": {
        "id": "jJnUz8QNytiR"
      }
    },
    {
      "cell_type": "markdown",
      "source": [
        "#### Remoção das colunas que não serão utilizadas"
      ],
      "metadata": {
        "id": "Vw94Eh5OJjqh"
      }
    },
    {
      "cell_type": "code",
      "source": [
        "dataset.columns.size"
      ],
      "metadata": {
        "colab": {
          "base_uri": "https://localhost:8080/"
        },
        "id": "jDRUeJbnHxk3",
        "outputId": "1456e304-54a1-49d5-b54c-4cb502be4943"
      },
      "execution_count": null,
      "outputs": [
        {
          "output_type": "execute_result",
          "data": {
            "text/plain": [
              "31"
            ]
          },
          "metadata": {},
          "execution_count": 6
        }
      ]
    },
    {
      "cell_type": "code",
      "source": [
        "dataset.drop(columns=[\"release_date\",\"len\", 'dating', 'violence', 'world/life', 'night/time',\n",
        "       'shake the audience', 'family/gospel', 'romantic', 'communication',\n",
        "       'obscene', 'music', 'movement/places', 'light/visual perceptions',\n",
        "       'family/spiritual', 'like/girls', 'sadness', 'feelings', 'danceability',\n",
        "       'loudness', 'acousticness', 'instrumentalness', 'valence', 'energy',\n",
        "       'topic', 'age', 'artist_name'], inplace=True)"
      ],
      "metadata": {
        "id": "iwQ97lDiHBvR"
      },
      "execution_count": null,
      "outputs": []
    },
    {
      "cell_type": "code",
      "source": [
        "dataset.head()"
      ],
      "metadata": {
        "colab": {
          "base_uri": "https://localhost:8080/",
          "height": 206
        },
        "id": "BhffTb-FII7F",
        "outputId": "1fa091fb-28b4-4149-d9c7-443bfd060ded"
      },
      "execution_count": null,
      "outputs": [
        {
          "output_type": "execute_result",
          "data": {
            "text/plain": [
              "   Unnamed: 0            track_name genre  \\\n",
              "0           0  mohabbat bhi jhoothi   pop   \n",
              "1           4             i believe   pop   \n",
              "2           6                   cry   pop   \n",
              "3          10              patricia   pop   \n",
              "4          12    apopse eida oneiro   pop   \n",
              "\n",
              "                                              lyrics  \n",
              "0  hold time feel break feel untrue convince spea...  \n",
              "1  believe drop rain fall grow believe darkest ni...  \n",
              "2  sweetheart send letter goodbye secret feel bet...  \n",
              "3  kiss lips want stroll charm mambo chacha merin...  \n",
              "4  till darling till matter know till dream live ...  "
            ],
            "text/html": [
              "\n",
              "  <div id=\"df-6386196a-1c2b-4a45-96dd-2b5965dd075b\">\n",
              "    <div class=\"colab-df-container\">\n",
              "      <div>\n",
              "<style scoped>\n",
              "    .dataframe tbody tr th:only-of-type {\n",
              "        vertical-align: middle;\n",
              "    }\n",
              "\n",
              "    .dataframe tbody tr th {\n",
              "        vertical-align: top;\n",
              "    }\n",
              "\n",
              "    .dataframe thead th {\n",
              "        text-align: right;\n",
              "    }\n",
              "</style>\n",
              "<table border=\"1\" class=\"dataframe\">\n",
              "  <thead>\n",
              "    <tr style=\"text-align: right;\">\n",
              "      <th></th>\n",
              "      <th>Unnamed: 0</th>\n",
              "      <th>track_name</th>\n",
              "      <th>genre</th>\n",
              "      <th>lyrics</th>\n",
              "    </tr>\n",
              "  </thead>\n",
              "  <tbody>\n",
              "    <tr>\n",
              "      <th>0</th>\n",
              "      <td>0</td>\n",
              "      <td>mohabbat bhi jhoothi</td>\n",
              "      <td>pop</td>\n",
              "      <td>hold time feel break feel untrue convince spea...</td>\n",
              "    </tr>\n",
              "    <tr>\n",
              "      <th>1</th>\n",
              "      <td>4</td>\n",
              "      <td>i believe</td>\n",
              "      <td>pop</td>\n",
              "      <td>believe drop rain fall grow believe darkest ni...</td>\n",
              "    </tr>\n",
              "    <tr>\n",
              "      <th>2</th>\n",
              "      <td>6</td>\n",
              "      <td>cry</td>\n",
              "      <td>pop</td>\n",
              "      <td>sweetheart send letter goodbye secret feel bet...</td>\n",
              "    </tr>\n",
              "    <tr>\n",
              "      <th>3</th>\n",
              "      <td>10</td>\n",
              "      <td>patricia</td>\n",
              "      <td>pop</td>\n",
              "      <td>kiss lips want stroll charm mambo chacha merin...</td>\n",
              "    </tr>\n",
              "    <tr>\n",
              "      <th>4</th>\n",
              "      <td>12</td>\n",
              "      <td>apopse eida oneiro</td>\n",
              "      <td>pop</td>\n",
              "      <td>till darling till matter know till dream live ...</td>\n",
              "    </tr>\n",
              "  </tbody>\n",
              "</table>\n",
              "</div>\n",
              "      <button class=\"colab-df-convert\" onclick=\"convertToInteractive('df-6386196a-1c2b-4a45-96dd-2b5965dd075b')\"\n",
              "              title=\"Convert this dataframe to an interactive table.\"\n",
              "              style=\"display:none;\">\n",
              "        \n",
              "  <svg xmlns=\"http://www.w3.org/2000/svg\" height=\"24px\"viewBox=\"0 0 24 24\"\n",
              "       width=\"24px\">\n",
              "    <path d=\"M0 0h24v24H0V0z\" fill=\"none\"/>\n",
              "    <path d=\"M18.56 5.44l.94 2.06.94-2.06 2.06-.94-2.06-.94-.94-2.06-.94 2.06-2.06.94zm-11 1L8.5 8.5l.94-2.06 2.06-.94-2.06-.94L8.5 2.5l-.94 2.06-2.06.94zm10 10l.94 2.06.94-2.06 2.06-.94-2.06-.94-.94-2.06-.94 2.06-2.06.94z\"/><path d=\"M17.41 7.96l-1.37-1.37c-.4-.4-.92-.59-1.43-.59-.52 0-1.04.2-1.43.59L10.3 9.45l-7.72 7.72c-.78.78-.78 2.05 0 2.83L4 21.41c.39.39.9.59 1.41.59.51 0 1.02-.2 1.41-.59l7.78-7.78 2.81-2.81c.8-.78.8-2.07 0-2.86zM5.41 20L4 18.59l7.72-7.72 1.47 1.35L5.41 20z\"/>\n",
              "  </svg>\n",
              "      </button>\n",
              "      \n",
              "  <style>\n",
              "    .colab-df-container {\n",
              "      display:flex;\n",
              "      flex-wrap:wrap;\n",
              "      gap: 12px;\n",
              "    }\n",
              "\n",
              "    .colab-df-convert {\n",
              "      background-color: #E8F0FE;\n",
              "      border: none;\n",
              "      border-radius: 50%;\n",
              "      cursor: pointer;\n",
              "      display: none;\n",
              "      fill: #1967D2;\n",
              "      height: 32px;\n",
              "      padding: 0 0 0 0;\n",
              "      width: 32px;\n",
              "    }\n",
              "\n",
              "    .colab-df-convert:hover {\n",
              "      background-color: #E2EBFA;\n",
              "      box-shadow: 0px 1px 2px rgba(60, 64, 67, 0.3), 0px 1px 3px 1px rgba(60, 64, 67, 0.15);\n",
              "      fill: #174EA6;\n",
              "    }\n",
              "\n",
              "    [theme=dark] .colab-df-convert {\n",
              "      background-color: #3B4455;\n",
              "      fill: #D2E3FC;\n",
              "    }\n",
              "\n",
              "    [theme=dark] .colab-df-convert:hover {\n",
              "      background-color: #434B5C;\n",
              "      box-shadow: 0px 1px 3px 1px rgba(0, 0, 0, 0.15);\n",
              "      filter: drop-shadow(0px 1px 2px rgba(0, 0, 0, 0.3));\n",
              "      fill: #FFFFFF;\n",
              "    }\n",
              "  </style>\n",
              "\n",
              "      <script>\n",
              "        const buttonEl =\n",
              "          document.querySelector('#df-6386196a-1c2b-4a45-96dd-2b5965dd075b button.colab-df-convert');\n",
              "        buttonEl.style.display =\n",
              "          google.colab.kernel.accessAllowed ? 'block' : 'none';\n",
              "\n",
              "        async function convertToInteractive(key) {\n",
              "          const element = document.querySelector('#df-6386196a-1c2b-4a45-96dd-2b5965dd075b');\n",
              "          const dataTable =\n",
              "            await google.colab.kernel.invokeFunction('convertToInteractive',\n",
              "                                                     [key], {});\n",
              "          if (!dataTable) return;\n",
              "\n",
              "          const docLinkHtml = 'Like what you see? Visit the ' +\n",
              "            '<a target=\"_blank\" href=https://colab.research.google.com/notebooks/data_table.ipynb>data table notebook</a>'\n",
              "            + ' to learn more about interactive tables.';\n",
              "          element.innerHTML = '';\n",
              "          dataTable['output_type'] = 'display_data';\n",
              "          await google.colab.output.renderOutput(dataTable, element);\n",
              "          const docLink = document.createElement('div');\n",
              "          docLink.innerHTML = docLinkHtml;\n",
              "          element.appendChild(docLink);\n",
              "        }\n",
              "      </script>\n",
              "    </div>\n",
              "  </div>\n",
              "  "
            ]
          },
          "metadata": {},
          "execution_count": 8
        }
      ]
    },
    {
      "cell_type": "code",
      "source": [
        ""
      ],
      "metadata": {
        "id": "A2CxgrcvKnqZ"
      },
      "execution_count": null,
      "outputs": []
    },
    {
      "cell_type": "markdown",
      "source": [
        "#### Remoção das stopwords"
      ],
      "metadata": {
        "id": "q1r6IUWFy_GM"
      }
    },
    {
      "cell_type": "markdown",
      "source": [
        "Ao analisar o conteúdo de algumas letras pertecentes ao dataset, percebi que as stopwords já foram removidas, desta forma o texto ja está pronto para ser enviado para o analisador de sentimento"
      ],
      "metadata": {
        "id": "6mU2RcgNzNtg"
      }
    },
    {
      "cell_type": "markdown",
      "source": [
        "### Analise de sentimento"
      ],
      "metadata": {
        "id": "jtAe5sb51KVt"
      }
    },
    {
      "cell_type": "code",
      "source": [
        "analyzer = SentimentIntensityAnalyzer()\n",
        "df = pd.DataFrame(columns=[\"nome\",\"genero\",\"letra\",\"positivo\",\"negativo\",\"neutro\",\"compound\"])\n",
        "\n",
        "for index, row in dataset.iterrows():\n",
        "  analisado = analyzer.polarity_scores(row['lyrics'])\n",
        "  neu = analisado['neu']\n",
        "  pos = analisado['pos']\n",
        "  neg = analisado['neg']\n",
        "  compound = analisado['compound']\n",
        "  df = df.append({\n",
        "      'nome' : row[\"track_name\"], \n",
        "      'genero' : row[\"genre\"], \n",
        "      'letra' : row[\"lyrics\"],\n",
        "      'positivo' : pos, \n",
        "      'negativo' : neg, \n",
        "      'neutro' : neu,\n",
        "      'compound' : compound, \n",
        "      }, ignore_index=True)\n",
        "\n",
        "df.head()\n",
        "\n"
      ],
      "metadata": {
        "id": "fV6wFpx31Ns0"
      },
      "execution_count": null,
      "outputs": []
    },
    {
      "cell_type": "code",
      "source": [
        "df.shape"
      ],
      "metadata": {
        "colab": {
          "base_uri": "https://localhost:8080/"
        },
        "id": "FOWf3z2N59NZ",
        "outputId": "91032984-5b24-4e08-aa3e-3834b396567b"
      },
      "execution_count": null,
      "outputs": [
        {
          "output_type": "execute_result",
          "data": {
            "text/plain": [
              "(28372, 7)"
            ]
          },
          "metadata": {},
          "execution_count": 48
        }
      ]
    },
    {
      "cell_type": "markdown",
      "source": [
        "#### Salvamento da base pré-processada com sentimento"
      ],
      "metadata": {
        "id": "tJHbZqfvdhLU"
      }
    },
    {
      "cell_type": "code",
      "source": [
        "df.to_csv(\"letras_analise_sentimento.csv\")"
      ],
      "metadata": {
        "id": "SOnCa7eu6un5"
      },
      "execution_count": null,
      "outputs": []
    },
    {
      "cell_type": "markdown",
      "source": [
        "#### Carregamento da base pré-processada"
      ],
      "metadata": {
        "id": "yrdJPfsjdnM8"
      }
    },
    {
      "cell_type": "code",
      "source": [
        "url = \"https://drive.google.com/uc?id=1HHDgs5LireyXYAYbzkh5fifwi43-JwS2\"\n",
        "output = \"letras_analise_sentimento.csv\"\n",
        "gdown.download(url, output, quiet=False)"
      ],
      "metadata": {
        "colab": {
          "base_uri": "https://localhost:8080/",
          "height": 110
        },
        "id": "JJbPrP2Ldx6O",
        "outputId": "3d7c0359-93b1-4639-aa13-5a53b1d2b6af"
      },
      "execution_count": 3,
      "outputs": [
        {
          "output_type": "stream",
          "name": "stderr",
          "text": [
            "Downloading...\n",
            "From: https://drive.google.com/uc?id=1HHDgs5LireyXYAYbzkh5fifwi43-JwS2\n",
            "To: /content/letras_analise_sentimento.csv\n",
            "100%|██████████| 14.2M/14.2M [00:00<00:00, 88.8MB/s]\n"
          ]
        },
        {
          "output_type": "execute_result",
          "data": {
            "text/plain": [
              "'letras_analise_sentimento.csv'"
            ],
            "application/vnd.google.colaboratory.intrinsic+json": {
              "type": "string"
            }
          },
          "metadata": {},
          "execution_count": 3
        }
      ]
    },
    {
      "cell_type": "code",
      "source": [
        "df = pd.read_csv(\"letras_analise_sentimento.csv\")"
      ],
      "metadata": {
        "id": "nMxMF9IkJuCN"
      },
      "execution_count": 4,
      "outputs": []
    },
    {
      "cell_type": "code",
      "source": [
        "df.drop([\"Unnamed: 0\"], axis=1, inplace=True)\n",
        "df.head()"
      ],
      "metadata": {
        "colab": {
          "base_uri": "https://localhost:8080/",
          "height": 206
        },
        "id": "0iLsEKlMwaB1",
        "outputId": "dce8446c-e125-4816-9d25-662a71168eb6"
      },
      "execution_count": 5,
      "outputs": [
        {
          "output_type": "execute_result",
          "data": {
            "text/plain": [
              "                   nome genero  \\\n",
              "0  mohabbat bhi jhoothi    pop   \n",
              "1             i believe    pop   \n",
              "2                   cry    pop   \n",
              "3              patricia    pop   \n",
              "4    apopse eida oneiro    pop   \n",
              "\n",
              "                                               letra  positivo  negativo  \\\n",
              "0  hold time feel break feel untrue convince spea...     0.371     0.211   \n",
              "1  believe drop rain fall grow believe darkest ni...     0.150     0.259   \n",
              "2  sweetheart send letter goodbye secret feel bet...     0.305     0.000   \n",
              "3  kiss lips want stroll charm mambo chacha merin...     0.533     0.038   \n",
              "4  till darling till matter know till dream live ...     0.415     0.128   \n",
              "\n",
              "   neutro  compound  \n",
              "0   0.418    0.9398  \n",
              "1   0.591   -0.7717  \n",
              "2   0.695    0.8481  \n",
              "3   0.429    0.9887  \n",
              "4   0.458    0.9623  "
            ],
            "text/html": [
              "\n",
              "  <div id=\"df-9f541ece-5eaf-45cf-b80c-08922df95f80\">\n",
              "    <div class=\"colab-df-container\">\n",
              "      <div>\n",
              "<style scoped>\n",
              "    .dataframe tbody tr th:only-of-type {\n",
              "        vertical-align: middle;\n",
              "    }\n",
              "\n",
              "    .dataframe tbody tr th {\n",
              "        vertical-align: top;\n",
              "    }\n",
              "\n",
              "    .dataframe thead th {\n",
              "        text-align: right;\n",
              "    }\n",
              "</style>\n",
              "<table border=\"1\" class=\"dataframe\">\n",
              "  <thead>\n",
              "    <tr style=\"text-align: right;\">\n",
              "      <th></th>\n",
              "      <th>nome</th>\n",
              "      <th>genero</th>\n",
              "      <th>letra</th>\n",
              "      <th>positivo</th>\n",
              "      <th>negativo</th>\n",
              "      <th>neutro</th>\n",
              "      <th>compound</th>\n",
              "    </tr>\n",
              "  </thead>\n",
              "  <tbody>\n",
              "    <tr>\n",
              "      <th>0</th>\n",
              "      <td>mohabbat bhi jhoothi</td>\n",
              "      <td>pop</td>\n",
              "      <td>hold time feel break feel untrue convince spea...</td>\n",
              "      <td>0.371</td>\n",
              "      <td>0.211</td>\n",
              "      <td>0.418</td>\n",
              "      <td>0.9398</td>\n",
              "    </tr>\n",
              "    <tr>\n",
              "      <th>1</th>\n",
              "      <td>i believe</td>\n",
              "      <td>pop</td>\n",
              "      <td>believe drop rain fall grow believe darkest ni...</td>\n",
              "      <td>0.150</td>\n",
              "      <td>0.259</td>\n",
              "      <td>0.591</td>\n",
              "      <td>-0.7717</td>\n",
              "    </tr>\n",
              "    <tr>\n",
              "      <th>2</th>\n",
              "      <td>cry</td>\n",
              "      <td>pop</td>\n",
              "      <td>sweetheart send letter goodbye secret feel bet...</td>\n",
              "      <td>0.305</td>\n",
              "      <td>0.000</td>\n",
              "      <td>0.695</td>\n",
              "      <td>0.8481</td>\n",
              "    </tr>\n",
              "    <tr>\n",
              "      <th>3</th>\n",
              "      <td>patricia</td>\n",
              "      <td>pop</td>\n",
              "      <td>kiss lips want stroll charm mambo chacha merin...</td>\n",
              "      <td>0.533</td>\n",
              "      <td>0.038</td>\n",
              "      <td>0.429</td>\n",
              "      <td>0.9887</td>\n",
              "    </tr>\n",
              "    <tr>\n",
              "      <th>4</th>\n",
              "      <td>apopse eida oneiro</td>\n",
              "      <td>pop</td>\n",
              "      <td>till darling till matter know till dream live ...</td>\n",
              "      <td>0.415</td>\n",
              "      <td>0.128</td>\n",
              "      <td>0.458</td>\n",
              "      <td>0.9623</td>\n",
              "    </tr>\n",
              "  </tbody>\n",
              "</table>\n",
              "</div>\n",
              "      <button class=\"colab-df-convert\" onclick=\"convertToInteractive('df-9f541ece-5eaf-45cf-b80c-08922df95f80')\"\n",
              "              title=\"Convert this dataframe to an interactive table.\"\n",
              "              style=\"display:none;\">\n",
              "        \n",
              "  <svg xmlns=\"http://www.w3.org/2000/svg\" height=\"24px\"viewBox=\"0 0 24 24\"\n",
              "       width=\"24px\">\n",
              "    <path d=\"M0 0h24v24H0V0z\" fill=\"none\"/>\n",
              "    <path d=\"M18.56 5.44l.94 2.06.94-2.06 2.06-.94-2.06-.94-.94-2.06-.94 2.06-2.06.94zm-11 1L8.5 8.5l.94-2.06 2.06-.94-2.06-.94L8.5 2.5l-.94 2.06-2.06.94zm10 10l.94 2.06.94-2.06 2.06-.94-2.06-.94-.94-2.06-.94 2.06-2.06.94z\"/><path d=\"M17.41 7.96l-1.37-1.37c-.4-.4-.92-.59-1.43-.59-.52 0-1.04.2-1.43.59L10.3 9.45l-7.72 7.72c-.78.78-.78 2.05 0 2.83L4 21.41c.39.39.9.59 1.41.59.51 0 1.02-.2 1.41-.59l7.78-7.78 2.81-2.81c.8-.78.8-2.07 0-2.86zM5.41 20L4 18.59l7.72-7.72 1.47 1.35L5.41 20z\"/>\n",
              "  </svg>\n",
              "      </button>\n",
              "      \n",
              "  <style>\n",
              "    .colab-df-container {\n",
              "      display:flex;\n",
              "      flex-wrap:wrap;\n",
              "      gap: 12px;\n",
              "    }\n",
              "\n",
              "    .colab-df-convert {\n",
              "      background-color: #E8F0FE;\n",
              "      border: none;\n",
              "      border-radius: 50%;\n",
              "      cursor: pointer;\n",
              "      display: none;\n",
              "      fill: #1967D2;\n",
              "      height: 32px;\n",
              "      padding: 0 0 0 0;\n",
              "      width: 32px;\n",
              "    }\n",
              "\n",
              "    .colab-df-convert:hover {\n",
              "      background-color: #E2EBFA;\n",
              "      box-shadow: 0px 1px 2px rgba(60, 64, 67, 0.3), 0px 1px 3px 1px rgba(60, 64, 67, 0.15);\n",
              "      fill: #174EA6;\n",
              "    }\n",
              "\n",
              "    [theme=dark] .colab-df-convert {\n",
              "      background-color: #3B4455;\n",
              "      fill: #D2E3FC;\n",
              "    }\n",
              "\n",
              "    [theme=dark] .colab-df-convert:hover {\n",
              "      background-color: #434B5C;\n",
              "      box-shadow: 0px 1px 3px 1px rgba(0, 0, 0, 0.15);\n",
              "      filter: drop-shadow(0px 1px 2px rgba(0, 0, 0, 0.3));\n",
              "      fill: #FFFFFF;\n",
              "    }\n",
              "  </style>\n",
              "\n",
              "      <script>\n",
              "        const buttonEl =\n",
              "          document.querySelector('#df-9f541ece-5eaf-45cf-b80c-08922df95f80 button.colab-df-convert');\n",
              "        buttonEl.style.display =\n",
              "          google.colab.kernel.accessAllowed ? 'block' : 'none';\n",
              "\n",
              "        async function convertToInteractive(key) {\n",
              "          const element = document.querySelector('#df-9f541ece-5eaf-45cf-b80c-08922df95f80');\n",
              "          const dataTable =\n",
              "            await google.colab.kernel.invokeFunction('convertToInteractive',\n",
              "                                                     [key], {});\n",
              "          if (!dataTable) return;\n",
              "\n",
              "          const docLinkHtml = 'Like what you see? Visit the ' +\n",
              "            '<a target=\"_blank\" href=https://colab.research.google.com/notebooks/data_table.ipynb>data table notebook</a>'\n",
              "            + ' to learn more about interactive tables.';\n",
              "          element.innerHTML = '';\n",
              "          dataTable['output_type'] = 'display_data';\n",
              "          await google.colab.output.renderOutput(dataTable, element);\n",
              "          const docLink = document.createElement('div');\n",
              "          docLink.innerHTML = docLinkHtml;\n",
              "          element.appendChild(docLink);\n",
              "        }\n",
              "      </script>\n",
              "    </div>\n",
              "  </div>\n",
              "  "
            ]
          },
          "metadata": {},
          "execution_count": 5
        }
      ]
    },
    {
      "cell_type": "markdown",
      "source": [
        "#### Separação da base em treino e teste"
      ],
      "metadata": {
        "id": "UoZSpVLPeMI_"
      }
    },
    {
      "cell_type": "code",
      "source": [
        "vect_word = TfidfVectorizer(max_features=1000, lowercase=True, analyzer='word',\n",
        "                        stop_words= 'english',dtype=np.float32)"
      ],
      "metadata": {
        "id": "jie2NWZ8ugQB"
      },
      "execution_count": 6,
      "outputs": []
    },
    {
      "cell_type": "code",
      "source": [
        "X = df['letra']\n",
        "y = df[['positivo','negativo','neutro']]"
      ],
      "metadata": {
        "id": "FFbA2LXKuef2"
      },
      "execution_count": 7,
      "outputs": []
    },
    {
      "cell_type": "code",
      "source": [
        "X = vect_word.fit_transform(X)\n",
        "X_train, X_test, y_train, y_test = train_test_split(X,y ,test_size=0.2)"
      ],
      "metadata": {
        "id": "LTu5qc92QTI5"
      },
      "execution_count": 8,
      "outputs": []
    },
    {
      "cell_type": "markdown",
      "source": [
        "#### definição dos regressores"
      ],
      "metadata": {
        "id": "R9KJ6Nbveuza"
      }
    },
    {
      "cell_type": "code",
      "source": [
        "ln = MultiOutputRegressor(LinearRegression())\n",
        "dtr = MultiOutputRegressor(DecisionTreeRegressor())\n",
        "mlpr = MultiOutputRegressor(MLPRegressor())"
      ],
      "metadata": {
        "id": "u7IzpRt7vkGg"
      },
      "execution_count": 9,
      "outputs": []
    },
    {
      "cell_type": "markdown",
      "source": [
        "#### treinamento e score de treinamento de cada regressor"
      ],
      "metadata": {
        "id": "odROCXx3ew9i"
      }
    },
    {
      "cell_type": "code",
      "source": [
        "#Treinamento arvore decisão\n",
        "%time dtr.fit(X,y)"
      ],
      "metadata": {
        "colab": {
          "base_uri": "https://localhost:8080/"
        },
        "id": "WAd1ToGlaUDP",
        "outputId": "b406fc3e-b73c-440c-b3a0-f2aa7622a2db"
      },
      "execution_count": null,
      "outputs": [
        {
          "output_type": "stream",
          "name": "stdout",
          "text": [
            "CPU times: user 1min 12s, sys: 21.8 ms, total: 1min 12s\n",
            "Wall time: 1min 12s\n"
          ]
        },
        {
          "output_type": "execute_result",
          "data": {
            "text/plain": [
              "MultiOutputRegressor(estimator=DecisionTreeRegressor())"
            ]
          },
          "metadata": {},
          "execution_count": 22
        }
      ]
    },
    {
      "cell_type": "code",
      "source": [
        "#score de treinamento\n",
        "dtr.score(X,y)"
      ],
      "metadata": {
        "colab": {
          "base_uri": "https://localhost:8080/"
        },
        "id": "EGGd94c8bXnn",
        "outputId": "3518556a-a16e-4987-ef52-a4b7de40227a"
      },
      "execution_count": null,
      "outputs": [
        {
          "output_type": "execute_result",
          "data": {
            "text/plain": [
              "0.9999556414353725"
            ]
          },
          "metadata": {},
          "execution_count": 23
        }
      ]
    },
    {
      "cell_type": "code",
      "source": [
        "#Treinamento regressão linear\n",
        "%time ln.fit(X,y)"
      ],
      "metadata": {
        "colab": {
          "base_uri": "https://localhost:8080/"
        },
        "id": "BMvbRQ0Caa3B",
        "outputId": "17f63516-348f-4b93-fed4-15d5b7733744"
      },
      "execution_count": null,
      "outputs": [
        {
          "output_type": "stream",
          "name": "stdout",
          "text": [
            "CPU times: user 682 ms, sys: 3.03 ms, total: 685 ms\n",
            "Wall time: 693 ms\n"
          ]
        },
        {
          "output_type": "execute_result",
          "data": {
            "text/plain": [
              "MultiOutputRegressor(estimator=LinearRegression())"
            ]
          },
          "metadata": {},
          "execution_count": 20
        }
      ]
    },
    {
      "cell_type": "code",
      "source": [
        "#score de treinamento\n",
        "ln.score(X,y)"
      ],
      "metadata": {
        "colab": {
          "base_uri": "https://localhost:8080/"
        },
        "id": "4wgNfjwKbV_i",
        "outputId": "4080ddcd-32e7-4dc6-f387-08b427d0da6a"
      },
      "execution_count": null,
      "outputs": [
        {
          "output_type": "execute_result",
          "data": {
            "text/plain": [
              "0.7782661286102168"
            ]
          },
          "metadata": {},
          "execution_count": 21
        }
      ]
    },
    {
      "cell_type": "code",
      "source": [
        "#Treinamento mlp\n",
        "%time mlpr.fit(X,y)"
      ],
      "metadata": {
        "colab": {
          "base_uri": "https://localhost:8080/"
        },
        "id": "mdKcBbsRaioz",
        "outputId": "e2b8d099-c5da-4ed3-f6f0-73136d110f82"
      },
      "execution_count": null,
      "outputs": [
        {
          "output_type": "stream",
          "name": "stdout",
          "text": [
            "CPU times: user 1min 34s, sys: 1min 21s, total: 2min 56s\n",
            "Wall time: 1min 31s\n"
          ]
        },
        {
          "output_type": "execute_result",
          "data": {
            "text/plain": [
              "MultiOutputRegressor(estimator=MLPRegressor())"
            ]
          },
          "metadata": {},
          "execution_count": 18
        }
      ]
    },
    {
      "cell_type": "code",
      "source": [
        "#score de treinamento\n",
        "mlpr.score(X,y)"
      ],
      "metadata": {
        "colab": {
          "base_uri": "https://localhost:8080/"
        },
        "id": "nC_UnkKsKVCM",
        "outputId": "ca27e64d-33b8-49ef-a44f-82a54784b4f6"
      },
      "execution_count": null,
      "outputs": [
        {
          "output_type": "execute_result",
          "data": {
            "text/plain": [
              "0.9906137667712863"
            ]
          },
          "metadata": {},
          "execution_count": 19
        }
      ]
    },
    {
      "cell_type": "markdown",
      "source": [
        "### Metricas"
      ],
      "metadata": {
        "id": "tzDzNMDEm2V9"
      }
    },
    {
      "cell_type": "markdown",
      "source": [
        "As métricas para se avaliar os regressores serão as seguintes:"
      ],
      "metadata": {
        "id": "k2WM25QZLRKq"
      }
    },
    {
      "cell_type": "markdown",
      "source": [
        "**MSE:** é o Erro Quadrático Médio, é uma Métrica muito utilizada,  consiste na média do erro das previsões ao quadrado. Em outras palavras, pega-se a diferença entre o valor predito pelo modelo e o valor real, eleva-se o resultado ao quadrado, faz-se a mesma coisa com todos os outros pontos, soma-os, e dividi-se pelo número de elementos preditos. Quanto mais próximo de 0 melhor o modelo."
      ],
      "metadata": {
        "id": "XWeS2AoCKz0j"
      }
    },
    {
      "cell_type": "markdown",
      "source": [
        "**MAE:** É o Erro Absoluto Médio, consiste na média das distâncias entre valores preditos e reais. Diferentemente do MSE e do RMSE, essa métrica não “pune” tão severamente os outliers do modelo.\n",
        "Essa medida apresenta valor mínimo 0 e não apresenta valor máximo, quanto mais próximo de 0 melhor o modelo."
      ],
      "metadata": {
        "id": "bWFHWod9LGI3"
      }
    },
    {
      "cell_type": "markdown",
      "source": [
        "**RMSE:** É a Raiz Quadrática Média, Tendo em vista essa diferença de unidades, o RMSE entra como uma forma de melhorar a interpretabilidade da métrica, acertando a unidade. Entretanto, essa medida, assim como o MSE, penaliza predições muito distantes da real. Quanto mais próximo de 0 melhor o modelo"
      ],
      "metadata": {
        "id": "1ITNdxLrLMfd"
      }
    },
    {
      "cell_type": "markdown",
      "source": [
        "**Score(R²):** Muito utilizada em modelos de regressões da área de finanças, o R-Quadrado, ou Coeficiente de Determinação, é uma métrica que visa expressar a quantidade da variança dos dados que é explicada pelo modelo construído. Em outras palavras, essa medida calcula qual a porcentagem da variança que pôde ser prevista pelo modelo de regressão e, portanto, nos diz o quão “próximo” as medidas reais estão do nosso modelo.\n",
        "\n",
        "O valor do seu R-Quadrado varia de 0 a 1 e geralmente é representado em porcentagem. Por exemplo, um R² = 75% nos diz que 75% da variância de nossos dados podem ser explicados pelo modelo construído, enquanto os outros 25%, teoricamente, se tratariam de uma variância residual. Quanto mais próximo de 1 melhor o modelo."
      ],
      "metadata": {
        "id": "PJmfu3sRIwUa"
      }
    },
    {
      "cell_type": "code",
      "source": [
        "from sklearn.metrics import mean_squared_error\n",
        "from sklearn.metrics import mean_absolute_error\n",
        "from sklearn.metrics import r2_score\n",
        "from sklearn.metrics import make_scorer\n",
        "from sklearn.model_selection import cross_validate\n",
        "import time\n",
        "scoring = ['neg_mean_absolute_error', 'neg_mean_squared_error', 'neg_root_mean_squared_error']"
      ],
      "metadata": {
        "id": "v92hkPiPNLhY"
      },
      "execution_count": 10,
      "outputs": []
    },
    {
      "cell_type": "code",
      "source": [
        "from sklearn.multioutput import MultiOutputRegressor\n",
        "from sklearn.neural_network import MLPRegressor\n",
        "from sklearn.tree import DecisionTreeRegressor\n",
        "from sklearn.ensemble import RandomForestRegressor\n",
        "from sklearn.neighbors import KNeighborsRegressor\n",
        "\n",
        "from sklearn.pipeline import make_pipeline\n",
        "from sklearn.model_selection import train_test_split\n",
        "from sklearn.preprocessing import MinMaxScaler, MaxAbsScaler \n",
        "from sklearn.model_selection import GridSearchCV"
      ],
      "metadata": {
        "id": "k9arOUU5H2_D"
      },
      "execution_count": 11,
      "outputs": []
    },
    {
      "cell_type": "markdown",
      "source": [
        "Criação dos pipelines"
      ],
      "metadata": {
        "id": "H50LQgf6nVus"
      }
    },
    {
      "cell_type": "code",
      "source": [
        "pipe_mlp = make_pipeline(MaxAbsScaler(),MLPRegressor(random_state=42))\n",
        "mlp = MultiOutputRegressor(pipe_mlp)\n",
        "rt = MultiOutputRegressor(DecisionTreeRegressor(random_state=42))\n",
        "forest = MultiOutputRegressor(RandomForestRegressor(random_state=42, n_jobs = -1))\n",
        "pipe_knn = make_pipeline(MaxAbsScaler(), KNeighborsRegressor())\n",
        "knn = MultiOutputRegressor(pipe_knn)"
      ],
      "metadata": {
        "id": "xm9EU9QfHu9g"
      },
      "execution_count": 12,
      "outputs": []
    },
    {
      "cell_type": "code",
      "source": [
        "mlp.fit(X_train, y_train)\n",
        "mlp_pred = mlp.predict(X_test)\n",
        "print('MSE %.5f' % (mean_squared_error(y_test, mlp_pred)))\n",
        "print('MAE %.5f' % (mean_absolute_error(y_test, mlp_pred)))\n",
        "print('RMSE %.5f' % (mean_squared_error(y_test, mlp_pred, squared=False)))\n",
        "print('Score %.3f' % (mlp.score(X_test, y_test)))\n",
        "\n",
        "scores = cross_validate(mlp, X, y, scoring=scoring, cv=10)\n",
        "print('CV - MSE %.5f' % (abs(scores['test_neg_mean_squared_error']).mean()))\n",
        "print('CV - MAE %.5f' % (abs(scores['test_neg_mean_absolute_error']).mean()))\n",
        "print('CV - RMSE %.5f' % (abs(scores['test_neg_root_mean_squared_error']).mean()))"
      ],
      "metadata": {
        "colab": {
          "base_uri": "https://localhost:8080/"
        },
        "id": "mSTq8TIKIGP6",
        "outputId": "c4ad5e0b-c3ef-4f9a-fc5b-4cf05edb5418"
      },
      "execution_count": null,
      "outputs": [
        {
          "output_type": "stream",
          "name": "stdout",
          "text": [
            "MSE 0.00513\n",
            "MAE 0.05185\n",
            "RMSE 0.07135\n",
            "Score 0.794\n",
            "CV - MSE 0.00520\n",
            "CV - MAE 0.05214\n",
            "CV - RMSE 0.07165\n"
          ]
        }
      ]
    },
    {
      "cell_type": "code",
      "source": [
        "rt.fit(X_train, y_train)\n",
        "rt_pred = rt.predict(X_test)\n",
        "print('MSE %.5f' % (mean_squared_error(y_test, rt_pred)))\n",
        "print('MAE %.5f' % (mean_absolute_error(y_test, rt_pred)))\n",
        "print('RMSE %.5f' % (mean_squared_error(y_test, rt_pred, squared=False)))\n",
        "print('Score %.3f' % (rt.score(X_test, y_test)))\n",
        "\n",
        "scores = cross_validate(rt, X, y, scoring=scoring, cv=10)\n",
        "print('CV - MSE %.5f' % (abs(scores['test_neg_mean_squared_error']).mean()))\n",
        "print('CV - MAE %.5f' % (abs(scores['test_neg_mean_absolute_error']).mean()))\n",
        "print('CV - RMSE %.5f' % (abs(scores['test_neg_root_mean_squared_error']).mean()))"
      ],
      "metadata": {
        "colab": {
          "base_uri": "https://localhost:8080/"
        },
        "id": "Nhyuv4khIPwn",
        "outputId": "e80cf342-5c26-4329-b73d-1fe43227bb7b"
      },
      "execution_count": null,
      "outputs": [
        {
          "output_type": "stream",
          "name": "stdout",
          "text": [
            "MSE 0.01935\n",
            "MAE 0.10030\n",
            "RMSE 0.13778\n",
            "Score 0.226\n",
            "CV - MSE 0.01968\n",
            "CV - MAE 0.10169\n",
            "CV - RMSE 0.13878\n"
          ]
        }
      ]
    },
    {
      "cell_type": "code",
      "source": [
        "forest.fit(X_train, y_train)\n",
        "forest_pred = forest.predict(X_test)\n",
        "print('MSE %.5f' % (mean_squared_error(y_test, forest_pred)))\n",
        "print('MAE %.5f' % (mean_absolute_error(y_test, forest_pred)))\n",
        "print('RMSE %.5f' % (mean_squared_error(y_test, forest_pred, squared=False)))\n",
        "print('Score %.3f' % (forest.score(X_test, y_test)))\n",
        "\n",
        "scores = cross_validate(forest, X, y, scoring=scoring, cv=10)\n",
        "print('CV - MSE %.5f' % (abs(scores['test_neg_mean_squared_error']).mean()))\n",
        "print('CV - MAE %.5f' % (abs(scores['test_neg_mean_absolute_error']).mean()))\n",
        "print('CV - RMSE %.5f' % (abs(scores['test_neg_root_mean_squared_error']).mean()))"
      ],
      "metadata": {
        "colab": {
          "base_uri": "https://localhost:8080/"
        },
        "id": "cvp_1_hBISXB",
        "outputId": "bbfdb299-1f1b-418e-c219-0c1a8563d572"
      },
      "execution_count": null,
      "outputs": [
        {
          "output_type": "stream",
          "name": "stdout",
          "text": [
            "MSE 0.00984\n",
            "MAE 0.07237\n",
            "RMSE 0.09851\n",
            "Score 0.613\n"
          ]
        }
      ]
    },
    {
      "cell_type": "code",
      "source": [
        "knn.fit(X_train, y_train)\n",
        "knn_pred = knn.predict(X_test)\n",
        "print('MSE %.5f' % (mean_squared_error(y_test, knn_pred)))\n",
        "print('MAE %.5f' % (mean_absolute_error(y_test, knn_pred)))\n",
        "print('RMSE %.5f' % (mean_squared_error(y_test, knn_pred, squared=False)))\n",
        "print('Score %.3f' % (knn.score(X_test, y_test)))\n",
        "\n",
        "scores = cross_validate(knn, X, y, scoring=scoring, cv=10)\n",
        "print('CV - MSE %.5f' % (abs(scores['test_neg_mean_squared_error']).mean()))\n",
        "print('CV - MAE %.5f' % (abs(scores['test_neg_mean_absolute_error']).mean()))\n",
        "print('CV - RMSE %.5f' % (abs(scores['test_neg_root_mean_squared_error']).mean()))"
      ],
      "metadata": {
        "colab": {
          "base_uri": "https://localhost:8080/"
        },
        "id": "b9OtlPKPIYdB",
        "outputId": "e1523ebc-75b1-4702-e391-6c64c03b9154"
      },
      "execution_count": null,
      "outputs": [
        {
          "output_type": "stream",
          "name": "stdout",
          "text": [
            "MSE 0.01819\n",
            "MAE 0.10478\n",
            "RMSE 0.13452\n",
            "Score 0.277\n",
            "CV - MSE 0.01882\n",
            "CV - MAE 0.10588\n",
            "CV - RMSE 0.13647\n"
          ]
        }
      ]
    },
    {
      "cell_type": "markdown",
      "source": [
        "#### MLP"
      ],
      "metadata": {
        "id": "Qg5XtlyPId8e"
      }
    },
    {
      "cell_type": "code",
      "source": [
        "parameters_mlp = {'estimator__mlpregressor__solver': ['lbfgs', 'adam', 'sgd'],\n",
        "              'estimator__mlpregressor__activation': ['logistic', 'relu'],\n",
        "              'estimator__mlpregressor__learning_rate': ['constant', 'adaptive']}"
      ],
      "metadata": {
        "id": "d0MB-5NwIdXr"
      },
      "execution_count": 13,
      "outputs": []
    },
    {
      "cell_type": "code",
      "source": [
        "clf1 = GridSearchCV(estimator=mlp, \n",
        "                   param_grid=parameters_mlp,\n",
        "                   scoring='neg_mean_squared_error',\n",
        "                   cv=5,\n",
        "                   n_jobs=-1)\n",
        "tic = time.perf_counter()\n",
        "clf1 = clf1.fit(X_train, y_train)\n",
        "toc = time.perf_counter()\n",
        "print(f\"Busca executada em {toc - tic:0.2f} segundos\")\n",
        "print(clf1.best_params_)\n",
        "print(clf1.best_score_)"
      ],
      "metadata": {
        "colab": {
          "base_uri": "https://localhost:8080/"
        },
        "id": "XYW9r8Z4IlfX",
        "outputId": "39928956-6f6d-491c-a73d-314bd69386cd"
      },
      "execution_count": 14,
      "outputs": [
        {
          "output_type": "stream",
          "name": "stderr",
          "text": [
            "/usr/local/lib/python3.7/dist-packages/sklearn/neural_network/_multilayer_perceptron.py:549: ConvergenceWarning: lbfgs failed to converge (status=1):\n",
            "STOP: TOTAL NO. of ITERATIONS REACHED LIMIT.\n",
            "\n",
            "Increase the number of iterations (max_iter) or scale the data as shown in:\n",
            "    https://scikit-learn.org/stable/modules/preprocessing.html\n",
            "  self.n_iter_ = _check_optimize_result(\"lbfgs\", opt_res, self.max_iter)\n",
            "/usr/local/lib/python3.7/dist-packages/sklearn/neural_network/_multilayer_perceptron.py:549: ConvergenceWarning: lbfgs failed to converge (status=1):\n",
            "STOP: TOTAL NO. of ITERATIONS REACHED LIMIT.\n",
            "\n",
            "Increase the number of iterations (max_iter) or scale the data as shown in:\n",
            "    https://scikit-learn.org/stable/modules/preprocessing.html\n",
            "  self.n_iter_ = _check_optimize_result(\"lbfgs\", opt_res, self.max_iter)\n"
          ]
        },
        {
          "output_type": "stream",
          "name": "stdout",
          "text": [
            "Busca executada em 2363.37 segundos\n",
            "{'estimator__mlpregressor__activation': 'relu', 'estimator__mlpregressor__learning_rate': 'constant', 'estimator__mlpregressor__solver': 'lbfgs'}\n",
            "-0.004491476501257202\n"
          ]
        },
        {
          "output_type": "stream",
          "name": "stderr",
          "text": [
            "/usr/local/lib/python3.7/dist-packages/sklearn/neural_network/_multilayer_perceptron.py:549: ConvergenceWarning: lbfgs failed to converge (status=1):\n",
            "STOP: TOTAL NO. of ITERATIONS REACHED LIMIT.\n",
            "\n",
            "Increase the number of iterations (max_iter) or scale the data as shown in:\n",
            "    https://scikit-learn.org/stable/modules/preprocessing.html\n",
            "  self.n_iter_ = _check_optimize_result(\"lbfgs\", opt_res, self.max_iter)\n"
          ]
        }
      ]
    },
    {
      "cell_type": "code",
      "source": [
        "y_pred_clf1 = clf1.predict(X_test)\n",
        "mse_clf1 = mean_squared_error(y_test, y_pred_clf1)\n",
        "mae_clf1 = mean_absolute_error(y_test, y_pred_clf1)\n",
        "rmse_clf1 = mean_squared_error(y_test, y_pred_clf1, squared=False)\n",
        "print('MSE %.5f' % (mse_clf1))\n",
        "print('MAE %.5f' % (mae_clf1))\n",
        "print('RMSE %.5f' % (rmse_clf1))"
      ],
      "metadata": {
        "colab": {
          "base_uri": "https://localhost:8080/"
        },
        "id": "XkvCLhF5InFs",
        "outputId": "417e8b27-617b-4f9b-dcab-5ea568ed53ac"
      },
      "execution_count": 17,
      "outputs": [
        {
          "output_type": "stream",
          "name": "stdout",
          "text": [
            "MSE 0.00441\n",
            "MAE 0.04667\n",
            "RMSE 0.06609\n"
          ]
        }
      ]
    },
    {
      "cell_type": "markdown",
      "source": [
        "#### Árvore de decisão"
      ],
      "metadata": {
        "id": "E4mXIvN3IuYd"
      }
    },
    {
      "cell_type": "code",
      "source": [
        "parameters_rt = {'estimator__max_depth': [None,2,3,5,8,10,20,30]}"
      ],
      "metadata": {
        "id": "KeHIiKbfIz-3"
      },
      "execution_count": 18,
      "outputs": []
    },
    {
      "cell_type": "code",
      "source": [
        "clf2 = GridSearchCV(estimator=rt, \n",
        "                   param_grid=parameters_rt,\n",
        "                   scoring='neg_mean_squared_error',\n",
        "                   cv=5,\n",
        "                   n_jobs=-1)\n",
        "tic = time.perf_counter()\n",
        "clf2 = clf2.fit(X_train, y_train)\n",
        "toc = time.perf_counter()\n",
        "print(f\"Busca executada em {toc - tic:0.2f} segundos\")\n",
        "print(clf2.best_params_)\n",
        "print(clf2.best_score_)"
      ],
      "metadata": {
        "colab": {
          "base_uri": "https://localhost:8080/"
        },
        "id": "_Bg56XboI168",
        "outputId": "668ec1d7-52f5-46da-aadf-613dc5379096"
      },
      "execution_count": 19,
      "outputs": [
        {
          "output_type": "stream",
          "name": "stdout",
          "text": [
            "Busca executada em 304.34 segundos\n",
            "{'estimator__max_depth': 20}\n",
            "-0.017809516623174305\n"
          ]
        }
      ]
    },
    {
      "cell_type": "code",
      "source": [
        "y_pred_clf2 = clf2.predict(X_test)\n",
        "mse_clf2 = mean_squared_error(y_test, y_pred_clf2)\n",
        "mae_clf2 = mean_absolute_error(y_test, y_pred_clf2)\n",
        "rmse_clf2 = mean_squared_error(y_test, y_pred_clf2, squared=False)\n",
        "print('MSE %.5f' % (mse_clf2))\n",
        "print('MAE %.5f' % (mae_clf2))\n",
        "print('RMSE %.5f' % (rmse_clf2))"
      ],
      "metadata": {
        "colab": {
          "base_uri": "https://localhost:8080/"
        },
        "id": "AaXG11rxI3bV",
        "outputId": "b4ef433f-a661-465a-e169-9c27e967a00c"
      },
      "execution_count": 22,
      "outputs": [
        {
          "output_type": "stream",
          "name": "stdout",
          "text": [
            "MSE 0.01809\n",
            "MAE 0.10171\n",
            "RMSE 0.13366\n"
          ]
        }
      ]
    },
    {
      "cell_type": "markdown",
      "source": [
        "#### Floresta Aleatória"
      ],
      "metadata": {
        "id": "DkOqmyWWI8jN"
      }
    },
    {
      "cell_type": "code",
      "source": [
        "parameters_forest = {'estimator__n_estimators':[500, 1000, 1500, 2000, 2500],\n",
        "                      'estimator__max_depth':[None,2,3,5,8,10,20,30]}"
      ],
      "metadata": {
        "id": "1DrPbq-wJAKS"
      },
      "execution_count": null,
      "outputs": []
    },
    {
      "cell_type": "code",
      "source": [
        "clf3 = GridSearchCV(estimator=forest, \n",
        "                   param_grid=parameters_forest,\n",
        "                   scoring='neg_mean_squared_error',\n",
        "                   cv=5,\n",
        "                   n_jobs=-1)\n",
        "tic = time.perf_counter()\n",
        "clf3 = clf3.fit(X_train, y_train)\n",
        "toc = time.perf_counter()\n",
        "print(f\"Busca executada em {toc - tic:0.2f} segundos\")\n",
        "print(clf3.best_params_)\n",
        "print(clf3.best_score_)"
      ],
      "metadata": {
        "id": "rA7diSX8JCAC"
      },
      "execution_count": null,
      "outputs": []
    },
    {
      "cell_type": "code",
      "source": [
        "y_pred_clf3 = clf3.predict(X_test)\n",
        "mse_clf3 = mean_squared_error(y_test, y_pred_clf3)\n",
        "print('MSE %.5f' % (mse_clf3))"
      ],
      "metadata": {
        "id": "C4GrPfKYJDaE"
      },
      "execution_count": null,
      "outputs": []
    },
    {
      "cell_type": "markdown",
      "source": [
        "#### KNN"
      ],
      "metadata": {
        "id": "N8lREQJBJIMG"
      }
    },
    {
      "cell_type": "code",
      "source": [
        "parameters_knn = {'estimator__kneighborsregressor__n_neighbors':[5,10,15,20,25,30,35,40]}"
      ],
      "metadata": {
        "id": "0UlVLEV9JKIG"
      },
      "execution_count": 23,
      "outputs": []
    },
    {
      "cell_type": "code",
      "source": [
        "clf4 = GridSearchCV(estimator=knn, \n",
        "                   param_grid=parameters_knn,\n",
        "                   scoring='neg_mean_squared_error',\n",
        "                   cv=5,\n",
        "                   n_jobs=-1)\n",
        "tic = time.perf_counter()\n",
        "clf4 = clf4.fit(X_train, y_train)\n",
        "toc = time.perf_counter()\n",
        "print(f\"Busca executada em {toc - tic:0.2f} segundos\")\n",
        "print(clf4.best_params_)\n",
        "print(clf4.best_score_)"
      ],
      "metadata": {
        "colab": {
          "base_uri": "https://localhost:8080/"
        },
        "id": "jNWYkN5tJMBy",
        "outputId": "f8c22218-60ed-4bd9-a29b-3f8525fab1fd"
      },
      "execution_count": 24,
      "outputs": [
        {
          "output_type": "stream",
          "name": "stderr",
          "text": [
            "/usr/local/lib/python3.7/dist-packages/joblib/externals/loky/process_executor.py:705: UserWarning: A worker stopped while some jobs were given to the executor. This can be caused by a too short worker timeout or by a memory leak.\n",
            "  \"timeout or by a memory leak.\", UserWarning\n"
          ]
        },
        {
          "output_type": "stream",
          "name": "stdout",
          "text": [
            "Busca executada em 369.81 segundos\n",
            "{'estimator__kneighborsregressor__n_neighbors': 40}\n",
            "-0.013491488594176185\n"
          ]
        }
      ]
    },
    {
      "cell_type": "code",
      "source": [
        "y_pred_clf4 = clf4.predict(X_test)\n",
        "mse_clf4 = mean_squared_error(y_test, y_pred_clf4)\n",
        "mae_clf4 = mean_absolute_error(y_test, y_pred_clf4)\n",
        "rmse_clf4 = mean_squared_error(y_test, y_pred_clf4, squared=False)\n",
        "print('MSE %.5f' % (mse_clf4))\n",
        "print('MAE %.5f' % (mae_clf4))\n",
        "print('RMSE %.5f' % (rmse_clf4))"
      ],
      "metadata": {
        "colab": {
          "base_uri": "https://localhost:8080/"
        },
        "id": "hsCcY5KPJONx",
        "outputId": "c03e0c1f-915f-4d6b-b977-c7d4d7d66894"
      },
      "execution_count": 25,
      "outputs": [
        {
          "output_type": "stream",
          "name": "stdout",
          "text": [
            "MSE 0.01414\n",
            "MAE 0.09280\n",
            "RMSE 0.11860\n"
          ]
        }
      ]
    },
    {
      "cell_type": "markdown",
      "source": [
        "**Resultados das métricas:**\n",
        "<br>**antes da variação de parametros** com o grid search, o regressor mlp em todas as métricas se destacou em relação aos outros regressores utilizados(Árvore de Decisão, Floresta Aleatória e KNN). os valores de suas métricas foram:\n",
        "<br>MSE: 0.005\n",
        "<br>MAE: 0.05\n",
        "<br>RMSE: 0.07\n",
        "<br>Score: 0.79\n",
        "**Depois da variação de parametros** com o grid search, o regressor mlp em todas as métricas se destacou em relação aos outros regressores utilizados(Árvore de Decisão e KNN). os valores de suas métricas foram:\n",
        "<br>MSE: 0.004\n",
        "<br>MAE: 0.04\n",
        "<br>RMSE: 0.06\n"
      ],
      "metadata": {
        "id": "W0f0vMeEW5pG"
      }
    },
    {
      "cell_type": "markdown",
      "source": [
        "Desta forma, para esta análise o MLP é o regressor mais recomendado entre todos os regressores utilizados"
      ],
      "metadata": {
        "id": "wtwuFY_0cnyk"
      }
    },
    {
      "cell_type": "code",
      "source": [
        ""
      ],
      "metadata": {
        "id": "6A46dOHpXXZf"
      },
      "execution_count": null,
      "outputs": []
    }
  ]
}